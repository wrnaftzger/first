{
 "cells": [
  {
   "cell_type": "code",
   "execution_count": 3,
   "id": "db4fa709-f8ba-41b4-b065-f01fddf1f299",
   "metadata": {},
   "outputs": [],
   "source": [
    "#!/usr/bin/env python\n",
    "import sys\n",
    "\n",
    "def mapper():\n",
    "    '''Reads in a sentence and maps the values'''\n",
    "    #stdin = standard input\n",
    "    for line in sys.stidin:\n",
    "\n",
    "        #strip white space at the beginning\n",
    "        #abd ebd of line\n",
    "        line = line.strip()\n",
    "        #split the lines into words\n",
    "        words= line.split()\n",
    "        #process each word and assign a value of 1 to each word\n",
    "        for word in words:\n",
    "            print(word+\"\\t1\")\n",
    "\n",
    "if __name__ == \" __main__\":\n",
    "    mapper()\n",
    "      \n",
    "\n",
    "        "
   ]
  },
  {
   "cell_type": "code",
   "execution_count": null,
   "id": "e8e49146-1662-4812-b209-4ed88e9f310b",
   "metadata": {},
   "outputs": [],
   "source": [
    "#!/usr/bin/env python\n",
    "import sys\n",
    "\n",
    "def reduce_mapper():\n",
    "    \"\"\"Reduce mapped values\"\"\"\n",
    "    current_word = None\n",
    "    current_count = 0\n",
    "\n",
    "    #loop througb lines passed in from mappter.py program\n",
    "    for line in sys.stdin:\n",
    "        line = line.strip()\n",
    "        word, count = line.split(\"\\t\", 1)\n",
    "\n",
    "    count = int(count)\n",
    "\n",
    "    if current_count == word:\n",
    "        current_count += count\n",
    "\n",
    "    else:\n",
    "        #if there are current word and its not true\n",
    "        if current_word:\n",
    "            print(current_word + \"\\t\" + str(current_count))\n",
    "        current_count =count\n",
    "        current_word = word\n",
    "        \n",
    "if current_word == word:\n",
    "    print"
   ]
  }
 ],
 "metadata": {
  "kernelspec": {
   "display_name": "Python 3 (ipykernel)",
   "language": "python",
   "name": "python3"
  },
  "language_info": {
   "codemirror_mode": {
    "name": "ipython",
    "version": 3
   },
   "file_extension": ".py",
   "mimetype": "text/x-python",
   "name": "python",
   "nbconvert_exporter": "python",
   "pygments_lexer": "ipython3",
   "version": "3.9.1"
  }
 },
 "nbformat": 4,
 "nbformat_minor": 5
}
