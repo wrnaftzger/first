{
 "cells": [
  {
   "cell_type": "code",
   "execution_count": 1,
   "id": "fb07e53b-cabb-4987-ab12-1434bfdd43f2",
   "metadata": {},
   "outputs": [
    {
     "name": "stderr",
     "output_type": "stream",
     "text": [
      "C:\\Users\\wrnaf\\AppData\\Local\\Temp\\ipykernel_13028\\1808188670.py:5: DeprecationWarning: \n",
      "Pyarrow will become a required dependency of pandas in the next major release of pandas (pandas 3.0),\n",
      "(to allow more performant data types, such as the Arrow string type, and better interoperability with other libraries)\n",
      "but was not found to be installed on your system.\n",
      "If this would cause problems for you,\n",
      "please provide us feedback at https://github.com/pandas-dev/pandas/issues/54466\n",
      "        \n",
      "  import pandas as pd\n"
     ]
    }
   ],
   "source": [
    "import nltk\n",
    "from nltk.tokenize import word_tokenize\n",
    "from nltk.sentiment.vader import SentimentIntensityAnalyzer\n",
    "import numpy as np\n",
    "import pandas as pd"
   ]
  },
  {
   "cell_type": "code",
   "execution_count": 2,
   "id": "5ceffd63-44db-48f9-92db-92b4464cab9e",
   "metadata": {
    "scrolled": true
   },
   "outputs": [
    {
     "data": {
      "text/plain": [
       "['austen-emma.txt',\n",
       " 'austen-persuasion.txt',\n",
       " 'austen-sense.txt',\n",
       " 'bible-kjv.txt',\n",
       " 'blake-poems.txt',\n",
       " 'bryant-stories.txt',\n",
       " 'burgess-busterbrown.txt',\n",
       " 'carroll-alice.txt',\n",
       " 'chesterton-ball.txt',\n",
       " 'chesterton-brown.txt',\n",
       " 'chesterton-thursday.txt',\n",
       " 'edgeworth-parents.txt',\n",
       " 'melville-moby_dick.txt',\n",
       " 'milton-paradise.txt',\n",
       " 'shakespeare-caesar.txt',\n",
       " 'shakespeare-hamlet.txt',\n",
       " 'shakespeare-macbeth.txt',\n",
       " 'whitman-leaves.txt']"
      ]
     },
     "execution_count": 2,
     "metadata": {},
     "output_type": "execute_result"
    }
   ],
   "source": [
    "nltk.corpus.gutenberg.fileids()"
   ]
  },
  {
   "cell_type": "code",
   "execution_count": 3,
   "id": "3343f175-49eb-49ec-81a0-9dfaf0ee5a38",
   "metadata": {},
   "outputs": [
    {
     "name": "stdout",
     "output_type": "stream",
     "text": [
      "['[', 'Paradise', 'Lost', 'by', 'John', 'Milton', ...]\n"
     ]
    }
   ],
   "source": [
    "pl = nltk.corpus.gutenberg.words('milton-paradise.txt')\n",
    "print(pl)"
   ]
  },
  {
   "cell_type": "code",
   "execution_count": 4,
   "id": "37380e7b-e12b-40cc-95bb-90740fdd5fcf",
   "metadata": {
    "scrolled": true
   },
   "outputs": [],
   "source": [
    "# text_sentences = nltk.corpus.gutenberg.sents('milton-paradise.txt')\n",
    "# print(text_sentences)"
   ]
  },
  {
   "cell_type": "code",
   "execution_count": 5,
   "id": "a9f4dae5-7f04-4cf0-b2ba-4bf81b84d218",
   "metadata": {},
   "outputs": [],
   "source": [
    "# for sentence in text_sentences:\n",
    "#     new_filtered_list = [word for word in sentence if not word.isalnum()]\n",
    "# new_filtered_list\n",
    "new_filtered_list = [words.lower() for words in pl]\n"
   ]
  },
  {
   "cell_type": "code",
   "execution_count": 6,
   "id": "4cebb7b4-b2a7-45e9-ae8f-e17f49808051",
   "metadata": {},
   "outputs": [
    {
     "data": {
      "text/plain": [
       "['i',\n",
       " 'me',\n",
       " 'my',\n",
       " 'myself',\n",
       " 'we',\n",
       " 'our',\n",
       " 'ours',\n",
       " 'ourselves',\n",
       " 'you',\n",
       " \"you're\",\n",
       " \"you've\",\n",
       " \"you'll\",\n",
       " \"you'd\",\n",
       " 'your',\n",
       " 'yours',\n",
       " 'yourself',\n",
       " 'yourselves',\n",
       " 'he',\n",
       " 'him',\n",
       " 'his',\n",
       " 'himself',\n",
       " 'she',\n",
       " \"she's\",\n",
       " 'her',\n",
       " 'hers',\n",
       " 'herself',\n",
       " 'it',\n",
       " \"it's\",\n",
       " 'its',\n",
       " 'itself',\n",
       " 'they',\n",
       " 'them',\n",
       " 'their',\n",
       " 'theirs',\n",
       " 'themselves',\n",
       " 'what',\n",
       " 'which',\n",
       " 'who',\n",
       " 'whom',\n",
       " 'this',\n",
       " 'that',\n",
       " \"that'll\",\n",
       " 'these',\n",
       " 'those',\n",
       " 'am',\n",
       " 'is',\n",
       " 'are',\n",
       " 'was',\n",
       " 'were',\n",
       " 'be',\n",
       " 'been',\n",
       " 'being',\n",
       " 'have',\n",
       " 'has',\n",
       " 'had',\n",
       " 'having',\n",
       " 'do',\n",
       " 'does',\n",
       " 'did',\n",
       " 'doing',\n",
       " 'a',\n",
       " 'an',\n",
       " 'the',\n",
       " 'and',\n",
       " 'but',\n",
       " 'if',\n",
       " 'or',\n",
       " 'because',\n",
       " 'as',\n",
       " 'until',\n",
       " 'while',\n",
       " 'of',\n",
       " 'at',\n",
       " 'by',\n",
       " 'for',\n",
       " 'with',\n",
       " 'about',\n",
       " 'against',\n",
       " 'between',\n",
       " 'into',\n",
       " 'through',\n",
       " 'during',\n",
       " 'before',\n",
       " 'after',\n",
       " 'above',\n",
       " 'below',\n",
       " 'to',\n",
       " 'from',\n",
       " 'up',\n",
       " 'down',\n",
       " 'in',\n",
       " 'out',\n",
       " 'on',\n",
       " 'off',\n",
       " 'over',\n",
       " 'under',\n",
       " 'again',\n",
       " 'further',\n",
       " 'then',\n",
       " 'once',\n",
       " 'here',\n",
       " 'there',\n",
       " 'when',\n",
       " 'where',\n",
       " 'why',\n",
       " 'how',\n",
       " 'all',\n",
       " 'any',\n",
       " 'both',\n",
       " 'each',\n",
       " 'few',\n",
       " 'more',\n",
       " 'most',\n",
       " 'other',\n",
       " 'some',\n",
       " 'such',\n",
       " 'no',\n",
       " 'nor',\n",
       " 'not',\n",
       " 'only',\n",
       " 'own',\n",
       " 'same',\n",
       " 'so',\n",
       " 'than',\n",
       " 'too',\n",
       " 'very',\n",
       " 's',\n",
       " 't',\n",
       " 'can',\n",
       " 'will',\n",
       " 'just',\n",
       " 'don',\n",
       " \"don't\",\n",
       " 'should',\n",
       " \"should've\",\n",
       " 'now',\n",
       " 'd',\n",
       " 'll',\n",
       " 'm',\n",
       " 'o',\n",
       " 're',\n",
       " 've',\n",
       " 'y',\n",
       " 'ain',\n",
       " 'aren',\n",
       " \"aren't\",\n",
       " 'couldn',\n",
       " \"couldn't\",\n",
       " 'didn',\n",
       " \"didn't\",\n",
       " 'doesn',\n",
       " \"doesn't\",\n",
       " 'hadn',\n",
       " \"hadn't\",\n",
       " 'hasn',\n",
       " \"hasn't\",\n",
       " 'haven',\n",
       " \"haven't\",\n",
       " 'isn',\n",
       " \"isn't\",\n",
       " 'ma',\n",
       " 'mightn',\n",
       " \"mightn't\",\n",
       " 'mustn',\n",
       " \"mustn't\",\n",
       " 'needn',\n",
       " \"needn't\",\n",
       " 'shan',\n",
       " \"shan't\",\n",
       " 'shouldn',\n",
       " \"shouldn't\",\n",
       " 'wasn',\n",
       " \"wasn't\",\n",
       " 'weren',\n",
       " \"weren't\",\n",
       " 'won',\n",
       " \"won't\",\n",
       " 'wouldn',\n",
       " \"wouldn't\"]"
      ]
     },
     "execution_count": 6,
     "metadata": {},
     "output_type": "execute_result"
    }
   ],
   "source": [
    "stopwords = nltk.corpus.stopwords.words('english')\n",
    "stopwords"
   ]
  },
  {
   "cell_type": "code",
   "execution_count": 7,
   "id": "d6c95dfc-89dd-4646-a445-742d106dbd96",
   "metadata": {},
   "outputs": [],
   "source": [
    "plstopwords = ['thus','yet','may','thou','u','thy','thee']\n",
    "stopwords.extend(plstopwords)\n",
    "stopwords = set(stopwords)\n",
    "\n",
    "new_filtered_list = [word for word in new_filtered_list if word.isalpha() and word not in stopwords]"
   ]
  },
  {
   "cell_type": "code",
   "execution_count": 8,
   "id": "3c49d976-309b-4a37-81fb-27bd0de27d87",
   "metadata": {},
   "outputs": [],
   "source": [
    "new_filtered_list = [ word for word in new_filtered_list if word.isalnum() not in stopwords]"
   ]
  },
  {
   "cell_type": "code",
   "execution_count": 9,
   "id": "6a52c1ee-f76b-4686-a7fe-6db5277910c8",
   "metadata": {},
   "outputs": [],
   "source": [
    "from nltk.stem import WordNetLemmatizer\n",
    "lemmatizer = WordNetLemmatizer()\n",
    "finalfilterwords = [lemmatizer.lemmatize(word) for word in new_filtered_list]\n",
    "#I chose lemmatization is more complex and most of time more accurate than stemming. "
   ]
  },
  {
   "cell_type": "code",
   "execution_count": 10,
   "id": "e9eff763-055f-4fc9-8618-9eafffdb5528",
   "metadata": {},
   "outputs": [
    {
     "data": {
      "text/plain": [
       "[('heaven', 436),\n",
       " ('god', 316),\n",
       " ('shall', 283),\n",
       " ('earth', 217),\n",
       " ('though', 217),\n",
       " ('u', 187),\n",
       " ('man', 176),\n",
       " ('first', 175),\n",
       " ('day', 157),\n",
       " ('high', 153),\n",
       " ('one', 142),\n",
       " ('son', 132),\n",
       " ('far', 129),\n",
       " ('death', 127),\n",
       " ('power', 125),\n",
       " ('great', 123),\n",
       " ('till', 120),\n",
       " ('like', 120),\n",
       " ('world', 119),\n",
       " ('hell', 119)]"
      ]
     },
     "execution_count": 10,
     "metadata": {},
     "output_type": "execute_result"
    }
   ],
   "source": [
    "from nltk.probability import FreqDist\n",
    "wordfq = nltk.FreqDist(finalfilterwords)\n",
    "mostcom = wordfq.most_common(20)\n",
    "mostcom"
   ]
  },
  {
   "cell_type": "code",
   "execution_count": 15,
   "id": "5a729cb5-557c-4eac-a731-cfd28f46e3af",
   "metadata": {},
   "outputs": [
    {
     "data": {
      "text/html": [
       "<div>\n",
       "<style scoped>\n",
       "    .dataframe tbody tr th:only-of-type {\n",
       "        vertical-align: middle;\n",
       "    }\n",
       "\n",
       "    .dataframe tbody tr th {\n",
       "        vertical-align: top;\n",
       "    }\n",
       "\n",
       "    .dataframe thead th {\n",
       "        text-align: right;\n",
       "    }\n",
       "</style>\n",
       "<table border=\"1\" class=\"dataframe\">\n",
       "  <thead>\n",
       "    <tr style=\"text-align: right;\">\n",
       "      <th></th>\n",
       "      <th>0</th>\n",
       "      <th>1</th>\n",
       "    </tr>\n",
       "  </thead>\n",
       "  <tbody>\n",
       "    <tr>\n",
       "      <th>0</th>\n",
       "      <td>heaven</td>\n",
       "      <td>436</td>\n",
       "    </tr>\n",
       "    <tr>\n",
       "      <th>1</th>\n",
       "      <td>god</td>\n",
       "      <td>316</td>\n",
       "    </tr>\n",
       "    <tr>\n",
       "      <th>2</th>\n",
       "      <td>shall</td>\n",
       "      <td>283</td>\n",
       "    </tr>\n",
       "    <tr>\n",
       "      <th>3</th>\n",
       "      <td>earth</td>\n",
       "      <td>217</td>\n",
       "    </tr>\n",
       "    <tr>\n",
       "      <th>4</th>\n",
       "      <td>though</td>\n",
       "      <td>217</td>\n",
       "    </tr>\n",
       "    <tr>\n",
       "      <th>5</th>\n",
       "      <td>u</td>\n",
       "      <td>187</td>\n",
       "    </tr>\n",
       "    <tr>\n",
       "      <th>6</th>\n",
       "      <td>man</td>\n",
       "      <td>176</td>\n",
       "    </tr>\n",
       "    <tr>\n",
       "      <th>7</th>\n",
       "      <td>first</td>\n",
       "      <td>175</td>\n",
       "    </tr>\n",
       "    <tr>\n",
       "      <th>8</th>\n",
       "      <td>day</td>\n",
       "      <td>157</td>\n",
       "    </tr>\n",
       "    <tr>\n",
       "      <th>9</th>\n",
       "      <td>high</td>\n",
       "      <td>153</td>\n",
       "    </tr>\n",
       "    <tr>\n",
       "      <th>10</th>\n",
       "      <td>one</td>\n",
       "      <td>142</td>\n",
       "    </tr>\n",
       "    <tr>\n",
       "      <th>11</th>\n",
       "      <td>son</td>\n",
       "      <td>132</td>\n",
       "    </tr>\n",
       "    <tr>\n",
       "      <th>12</th>\n",
       "      <td>far</td>\n",
       "      <td>129</td>\n",
       "    </tr>\n",
       "    <tr>\n",
       "      <th>13</th>\n",
       "      <td>death</td>\n",
       "      <td>127</td>\n",
       "    </tr>\n",
       "    <tr>\n",
       "      <th>14</th>\n",
       "      <td>power</td>\n",
       "      <td>125</td>\n",
       "    </tr>\n",
       "    <tr>\n",
       "      <th>15</th>\n",
       "      <td>great</td>\n",
       "      <td>123</td>\n",
       "    </tr>\n",
       "    <tr>\n",
       "      <th>16</th>\n",
       "      <td>till</td>\n",
       "      <td>120</td>\n",
       "    </tr>\n",
       "    <tr>\n",
       "      <th>17</th>\n",
       "      <td>like</td>\n",
       "      <td>120</td>\n",
       "    </tr>\n",
       "    <tr>\n",
       "      <th>18</th>\n",
       "      <td>world</td>\n",
       "      <td>119</td>\n",
       "    </tr>\n",
       "    <tr>\n",
       "      <th>19</th>\n",
       "      <td>hell</td>\n",
       "      <td>119</td>\n",
       "    </tr>\n",
       "  </tbody>\n",
       "</table>\n",
       "</div>"
      ],
      "text/plain": [
       "         0    1\n",
       "0   heaven  436\n",
       "1      god  316\n",
       "2    shall  283\n",
       "3    earth  217\n",
       "4   though  217\n",
       "5        u  187\n",
       "6      man  176\n",
       "7    first  175\n",
       "8      day  157\n",
       "9     high  153\n",
       "10     one  142\n",
       "11     son  132\n",
       "12     far  129\n",
       "13   death  127\n",
       "14   power  125\n",
       "15   great  123\n",
       "16    till  120\n",
       "17    like  120\n",
       "18   world  119\n",
       "19    hell  119"
      ]
     },
     "execution_count": 15,
     "metadata": {},
     "output_type": "execute_result"
    }
   ],
   "source": [
    "df = pd.DataFrame(list(mostcom))\n",
    "df"
   ]
  },
  {
   "cell_type": "code",
   "execution_count": null,
   "id": "759ee75b-05a3-4fdd-8f5a-831df40c7302",
   "metadata": {},
   "outputs": [],
   "source": []
  },
  {
   "cell_type": "code",
   "execution_count": 31,
   "id": "e164d941-7127-4686-b502-5e6aa4826e0f",
   "metadata": {},
   "outputs": [
    {
     "data": {
      "text/plain": [
       "Text(38.347222222222214, 0.5, 'Count')"
      ]
     },
     "execution_count": 31,
     "metadata": {},
     "output_type": "execute_result"
    },
    {
     "data": {
      "image/png": "[encoded data removed]",
      "text/plain": [
       "<Figure size 640x480 with 1 Axes>"
      ]
     },
     "metadata": {},
     "output_type": "display_data"
    }
   ],
   "source": [
    "import matplotlib.pyplot as plt\n",
    "\n",
    "\n",
    "\n",
    "fig, ax = plt.subplots()\n",
    "df.plot(kind='bar', ax=ax)\n",
    "plt.tight_layout()\n",
    "ax.set_xlabel('Words') \n",
    "ax.set_ylabel('Count') "
   ]
  },
  {
   "cell_type": "code",
   "execution_count": null,
   "id": "21def2fb-a6a3-43ab-9725-7ee1294f5da9",
   "metadata": {},
   "outputs": [],
   "source": [
    "#This is the bar chart of the 20 most common words that hold sentimnet value. The numbers on the x axis corresponding to the df table above. "
   ]
  },
  {
   "cell_type": "code",
   "execution_count": 39,
   "id": "d6a95a9f-ed2f-456f-b60b-16bec54c7c3d",
   "metadata": {},
   "outputs": [
    {
     "name": "stdout",
     "output_type": "stream",
     "text": [
      "[['[', 'Paradise', 'Lost', 'by', 'John', 'Milton', '1667', ']'], ['Book', 'I'], ['Of', 'Man', \"'\", 's', 'first', 'disobedience', ',', 'and', 'the', 'fruit', 'Of', 'that', 'forbidden', 'tree', 'whose', 'mortal', 'taste', 'Brought', 'death', 'into', 'the', 'World', ',', 'and', 'all', 'our', 'woe', ',', 'With', 'loss', 'of', 'Eden', ',', 'till', 'one', 'greater', 'Man', 'Restore', 'us', ',', 'and', 'regain', 'the', 'blissful', 'seat', ',', 'Sing', ',', 'Heavenly', 'Muse', ',', 'that', ',', 'on', 'the', 'secret', 'top', 'Of', 'Oreb', ',', 'or', 'of', 'Sinai', ',', 'didst', 'inspire', 'That', 'shepherd', 'who', 'first', 'taught', 'the', 'chosen', 'seed', 'In', 'the', 'beginning', 'how', 'the', 'heavens', 'and', 'earth', 'Rose', 'out', 'of', 'Chaos', ':', 'or', ',', 'if', 'Sion', 'hill', 'Delight', 'thee', 'more', ',', 'and', 'Siloa', \"'\", 's', 'brook', 'that', 'flowed', 'Fast', 'by', 'the', 'oracle', 'of', 'God', ',', 'I', 'thence', 'Invoke', 'thy', 'aid', 'to', 'my', 'adventurous', 'song', ',', 'That', 'with', 'no', 'middle', 'flight', 'intends', 'to', 'soar', 'Above', 'th', \"'\", 'Aonian', 'mount', ',', 'while', 'it', 'pursues', 'Things', 'unattempted', 'yet', 'in', 'prose', 'or', 'rhyme', '.'], ['And', 'chiefly', 'thou', ',', 'O', 'Spirit', ',', 'that', 'dost', 'prefer', 'Before', 'all', 'temples', 'th', \"'\", 'upright', 'heart', 'and', 'pure', ',', 'Instruct', 'me', ',', 'for', 'thou', 'know', \"'\", 'st', ';', 'thou', 'from', 'the', 'first', 'Wast', 'present', ',', 'and', ',', 'with', 'mighty', 'wings', 'outspread', ',', 'Dove', '-', 'like', 'sat', \"'\", 'st', 'brooding', 'on', 'the', 'vast', 'Abyss', ',', 'And', 'mad', \"'\", 'st', 'it', 'pregnant', ':', 'what', 'in', 'me', 'is', 'dark', 'Illumine', ',', 'what', 'is', 'low', 'raise', 'and', 'support', ';', 'That', ',', 'to', 'the', 'height', 'of', 'this', 'great', 'argument', ',', 'I', 'may', 'assert', 'Eternal', 'Providence', ',', 'And', 'justify', 'the', 'ways', 'of', 'God', 'to', 'men', '.'], ['Say', 'first', '--', 'for', 'Heaven', 'hides', 'nothing', 'from', 'thy', 'view', ',', 'Nor', 'the', 'deep', 'tract', 'of', 'Hell', '--', 'say', 'first', 'what', 'cause', 'Moved', 'our', 'grand', 'parents', ',', 'in', 'that', 'happy', 'state', ',', 'Favoured', 'of', 'Heaven', 'so', 'highly', ',', 'to', 'fall', 'off', 'From', 'their', 'Creator', ',', 'and', 'transgress', 'his', 'will', 'For', 'one', 'restraint', ',', 'lords', 'of', 'the', 'World', 'besides', '.'], ['Who', 'first', 'seduced', 'them', 'to', 'that', 'foul', 'revolt', '?'], ['Th', \"'\", 'infernal', 'Serpent', ';', 'he', 'it', 'was', 'whose', 'guile', ',', 'Stirred', 'up', 'with', 'envy', 'and', 'revenge', ',', 'deceived', 'The', 'mother', 'of', 'mankind', ',', 'what', 'time', 'his', 'pride', 'Had', 'cast', 'him', 'out', 'from', 'Heaven', ',', 'with', 'all', 'his', 'host', 'Of', 'rebel', 'Angels', ',', 'by', 'whose', 'aid', ',', 'aspiring', 'To', 'set', 'himself', 'in', 'glory', 'above', 'his', 'peers', ',', 'He', 'trusted', 'to', 'have', 'equalled', 'the', 'Most', 'High', ',', 'If', 'he', 'opposed', ',', 'and', 'with', 'ambitious', 'aim', 'Against', 'the', 'throne', 'and', 'monarchy', 'of', 'God', ',', 'Raised', 'impious', 'war', 'in', 'Heaven', 'and', 'battle', 'proud', ',', 'With', 'vain', 'attempt', '.'], ['Him', 'the', 'Almighty', 'Power', 'Hurled', 'headlong', 'flaming', 'from', 'th', \"'\", 'ethereal', 'sky', ',', 'With', 'hideous', 'ruin', 'and', 'combustion', ',', 'down', 'To', 'bottomless', 'perdition', ',', 'there', 'to', 'dwell', 'In', 'adamantine', 'chains', 'and', 'penal', 'fire', ',', 'Who', 'durst', 'defy', 'th', \"'\", 'Omnipotent', 'to', 'arms', '.'], ['Nine', 'times', 'the', 'space', 'that', 'measures', 'day', 'and', 'night', 'To', 'mortal', 'men', ',', 'he', ',', 'with', 'his', 'horrid', 'crew', ',', 'Lay', 'vanquished', ',', 'rolling', 'in', 'the', 'fiery', 'gulf', ',', 'Confounded', ',', 'though', 'immortal', '.'], ['But', 'his', 'doom', 'Reserved', 'him', 'to', 'more', 'wrath', ';', 'for', 'now', 'the', 'thought', 'Both', 'of', 'lost', 'happiness', 'and', 'lasting', 'pain', 'Torments', 'him', ':', 'round', 'he', 'throws', 'his', 'baleful', 'eyes', ',', 'That', 'witnessed', 'huge', 'affliction', 'and', 'dismay', ',', 'Mixed', 'with', 'obdurate', 'pride', 'and', 'steadfast', 'hate', '.'], ['At', 'once', ',', 'as', 'far', 'as', 'Angels', 'ken', ',', 'he', 'views', 'The', 'dismal', 'situation', 'waste', 'and', 'wild', '.'], ['A', 'dungeon', 'horrible', ',', 'on', 'all', 'sides', 'round', ',', 'As', 'one', 'great', 'furnace', 'flamed', ';', 'yet', 'from', 'those', 'flames', 'No', 'light', ';', 'but', 'rather', 'darkness', 'visible', 'Served', 'only', 'to', 'discover', 'sights', 'of', 'woe', ',', 'Regions', 'of', 'sorrow', ',', 'doleful', 'shades', ',', 'where', 'peace', 'And', 'rest', 'can', 'never', 'dwell', ',', 'hope', 'never', 'comes', 'That', 'comes', 'to', 'all', ',', 'but', 'torture', 'without', 'end', 'Still', 'urges', ',', 'and', 'a', 'fiery', 'deluge', ',', 'fed', 'With', 'ever', '-', 'burning', 'sulphur', 'unconsumed', '.'], ['Such', 'place', 'Eternal', 'Justice', 'has', 'prepared', 'For', 'those', 'rebellious', ';', 'here', 'their', 'prison', 'ordained', 'In', 'utter', 'darkness', ',', 'and', 'their', 'portion', 'set', ',', 'As', 'far', 'removed', 'from', 'God', 'and', 'light', 'of', 'Heaven', 'As', 'from', 'the', 'centre', 'thrice', 'to', 'th', \"'\", 'utmost', 'pole', '.'], ['Oh', 'how', 'unlike', 'the', 'place', 'from', 'whence', 'they', 'fell', '!'], ['There', 'the', 'companions', 'of', 'his', 'fall', ',', 'o', \"'\", 'erwhelmed', 'With', 'floods', 'and', 'whirlwinds', 'of', 'tempestuous', 'fire', ',', 'He', 'soon', 'discerns', ';', 'and', ',', 'weltering', 'by', 'his', 'side', ',', 'One', 'next', 'himself', 'in', 'power', ',', 'and', 'next', 'in', 'crime', ',', 'Long', 'after', 'known', 'in', 'Palestine', ',', 'and', 'named', 'Beelzebub', '.']]\n"
     ]
    }
   ],
   "source": [
    "sentences = nltk.corpus.gutenberg.sents('milton-paradise.txt')[:15]\n",
    "print(sentences)"
   ]
  },
  {
   "cell_type": "code",
   "execution_count": 41,
   "id": "5d679575-f392-4ee4-848e-86e39d0b4459",
   "metadata": {},
   "outputs": [],
   "source": [
    "from nltk.sentiment.vader import SentimentIntensityAnalyzer"
   ]
  },
  {
   "cell_type": "code",
   "execution_count": 45,
   "id": "26312a38-6108-4a88-8e13-31e0a103aa3d",
   "metadata": {
    "scrolled": true
   },
   "outputs": [
    {
     "name": "stdout",
     "output_type": "stream",
     "text": [
      "['[', 'Paradise', 'Lost', 'by', 'John', 'Milton', '1667', ']']\n",
      "compound: 0.4404, neg: 0.219, neu: 0.381, pos: 0.4, \n",
      "['Book', 'I']\n",
      "compound: 0.0, neg: 0.0, neu: 1.0, pos: 0.0, \n",
      "['Of', 'Man', \"'\", 's', 'first', 'disobedience', ',', 'and', 'the', 'fruit', 'Of', 'that', 'forbidden', 'tree', 'whose', 'mortal', 'taste', 'Brought', 'death', 'into', 'the', 'World', ',', 'and', 'all', 'our', 'woe', ',', 'With', 'loss', 'of', 'Eden', ',', 'till', 'one', 'greater', 'Man', 'Restore', 'us', ',', 'and', 'regain', 'the', 'blissful', 'seat', ',', 'Sing', ',', 'Heavenly', 'Muse', ',', 'that', ',', 'on', 'the', 'secret', 'top', 'Of', 'Oreb', ',', 'or', 'of', 'Sinai', ',', 'didst', 'inspire', 'That', 'shepherd', 'who', 'first', 'taught', 'the', 'chosen', 'seed', 'In', 'the', 'beginning', 'how', 'the', 'heavens', 'and', 'earth', 'Rose', 'out', 'of', 'Chaos', ':', 'or', ',', 'if', 'Sion', 'hill', 'Delight', 'thee', 'more', ',', 'and', 'Siloa', \"'\", 's', 'brook', 'that', 'flowed', 'Fast', 'by', 'the', 'oracle', 'of', 'God', ',', 'I', 'thence', 'Invoke', 'thy', 'aid', 'to', 'my', 'adventurous', 'song', ',', 'That', 'with', 'no', 'middle', 'flight', 'intends', 'to', 'soar', 'Above', 'th', \"'\", 'Aonian', 'mount', ',', 'while', 'it', 'pursues', 'Things', 'unattempted', 'yet', 'in', 'prose', 'or', 'rhyme', '.']\n",
      "compound: 0.8885, neg: 0.117, neu: 0.691, pos: 0.192, \n",
      "['And', 'chiefly', 'thou', ',', 'O', 'Spirit', ',', 'that', 'dost', 'prefer', 'Before', 'all', 'temples', 'th', \"'\", 'upright', 'heart', 'and', 'pure', ',', 'Instruct', 'me', ',', 'for', 'thou', 'know', \"'\", 'st', ';', 'thou', 'from', 'the', 'first', 'Wast', 'present', ',', 'and', ',', 'with', 'mighty', 'wings', 'outspread', ',', 'Dove', '-', 'like', 'sat', \"'\", 'st', 'brooding', 'on', 'the', 'vast', 'Abyss', ',', 'And', 'mad', \"'\", 'st', 'it', 'pregnant', ':', 'what', 'in', 'me', 'is', 'dark', 'Illumine', ',', 'what', 'is', 'low', 'raise', 'and', 'support', ';', 'That', ',', 'to', 'the', 'height', 'of', 'this', 'great', 'argument', ',', 'I', 'may', 'assert', 'Eternal', 'Providence', ',', 'And', 'justify', 'the', 'ways', 'of', 'God', 'to', 'men', '.']\n",
      "compound: 0.7331, neg: 0.085, neu: 0.752, pos: 0.163, \n",
      "['Say', 'first', '--', 'for', 'Heaven', 'hides', 'nothing', 'from', 'thy', 'view', ',', 'Nor', 'the', 'deep', 'tract', 'of', 'Hell', '--', 'say', 'first', 'what', 'cause', 'Moved', 'our', 'grand', 'parents', ',', 'in', 'that', 'happy', 'state', ',', 'Favoured', 'of', 'Heaven', 'so', 'highly', ',', 'to', 'fall', 'off', 'From', 'their', 'Creator', ',', 'and', 'transgress', 'his', 'will', 'For', 'one', 'restraint', ',', 'lords', 'of', 'the', 'World', 'besides', '.']\n",
      "compound: 0.8689, neg: 0.093, neu: 0.668, pos: 0.239, \n",
      "['Who', 'first', 'seduced', 'them', 'to', 'that', 'foul', 'revolt', '?']\n",
      "compound: -0.3612, neg: 0.263, neu: 0.737, pos: 0.0, \n",
      "['Th', \"'\", 'infernal', 'Serpent', ';', 'he', 'it', 'was', 'whose', 'guile', ',', 'Stirred', 'up', 'with', 'envy', 'and', 'revenge', ',', 'deceived', 'The', 'mother', 'of', 'mankind', ',', 'what', 'time', 'his', 'pride', 'Had', 'cast', 'him', 'out', 'from', 'Heaven', ',', 'with', 'all', 'his', 'host', 'Of', 'rebel', 'Angels', ',', 'by', 'whose', 'aid', ',', 'aspiring', 'To', 'set', 'himself', 'in', 'glory', 'above', 'his', 'peers', ',', 'He', 'trusted', 'to', 'have', 'equalled', 'the', 'Most', 'High', ',', 'If', 'he', 'opposed', ',', 'and', 'with', 'ambitious', 'aim', 'Against', 'the', 'throne', 'and', 'monarchy', 'of', 'God', ',', 'Raised', 'impious', 'war', 'in', 'Heaven', 'and', 'battle', 'proud', ',', 'With', 'vain', 'attempt', '.']\n",
      "compound: 0.6808, neg: 0.177, neu: 0.604, pos: 0.219, \n",
      "['Him', 'the', 'Almighty', 'Power', 'Hurled', 'headlong', 'flaming', 'from', 'th', \"'\", 'ethereal', 'sky', ',', 'With', 'hideous', 'ruin', 'and', 'combustion', ',', 'down', 'To', 'bottomless', 'perdition', ',', 'there', 'to', 'dwell', 'In', 'adamantine', 'chains', 'and', 'penal', 'fire', ',', 'Who', 'durst', 'defy', 'th', \"'\", 'Omnipotent', 'to', 'arms', '.']\n",
      "compound: -0.6908, neg: 0.152, neu: 0.811, pos: 0.037, \n",
      "['Nine', 'times', 'the', 'space', 'that', 'measures', 'day', 'and', 'night', 'To', 'mortal', 'men', ',', 'he', ',', 'with', 'his', 'horrid', 'crew', ',', 'Lay', 'vanquished', ',', 'rolling', 'in', 'the', 'fiery', 'gulf', ',', 'Confounded', ',', 'though', 'immortal', '.']\n",
      "compound: -0.5994, neg: 0.185, neu: 0.752, pos: 0.063, \n",
      "['But', 'his', 'doom', 'Reserved', 'him', 'to', 'more', 'wrath', ';', 'for', 'now', 'the', 'thought', 'Both', 'of', 'lost', 'happiness', 'and', 'lasting', 'pain', 'Torments', 'him', ':', 'round', 'he', 'throws', 'his', 'baleful', 'eyes', ',', 'That', 'witnessed', 'huge', 'affliction', 'and', 'dismay', ',', 'Mixed', 'with', 'obdurate', 'pride', 'and', 'steadfast', 'hate', '.']\n",
      "compound: -0.8047, neg: 0.307, neu: 0.483, pos: 0.21, \n",
      "['At', 'once', ',', 'as', 'far', 'as', 'Angels', 'ken', ',', 'he', 'views', 'The', 'dismal', 'situation', 'waste', 'and', 'wild', '.']\n",
      "compound: -0.7783, neg: 0.343, neu: 0.657, pos: 0.0, \n",
      "['A', 'dungeon', 'horrible', ',', 'on', 'all', 'sides', 'round', ',', 'As', 'one', 'great', 'furnace', 'flamed', ';', 'yet', 'from', 'those', 'flames', 'No', 'light', ';', 'but', 'rather', 'darkness', 'visible', 'Served', 'only', 'to', 'discover', 'sights', 'of', 'woe', ',', 'Regions', 'of', 'sorrow', ',', 'doleful', 'shades', ',', 'where', 'peace', 'And', 'rest', 'can', 'never', 'dwell', ',', 'hope', 'never', 'comes', 'That', 'comes', 'to', 'all', ',', 'but', 'torture', 'without', 'end', 'Still', 'urges', ',', 'and', 'a', 'fiery', 'deluge', ',', 'fed', 'With', 'ever', '-', 'burning', 'sulphur', 'unconsumed', '.']\n",
      "compound: -0.961, neg: 0.323, neu: 0.593, pos: 0.085, \n",
      "['Such', 'place', 'Eternal', 'Justice', 'has', 'prepared', 'For', 'those', 'rebellious', ';', 'here', 'their', 'prison', 'ordained', 'In', 'utter', 'darkness', ',', 'and', 'their', 'portion', 'set', ',', 'As', 'far', 'removed', 'from', 'God', 'and', 'light', 'of', 'Heaven', 'As', 'from', 'the', 'centre', 'thrice', 'to', 'th', \"'\", 'utmost', 'pole', '.']\n",
      "compound: 0.4939, neg: 0.152, neu: 0.63, pos: 0.217, \n",
      "['Oh', 'how', 'unlike', 'the', 'place', 'from', 'whence', 'they', 'fell', '!']\n",
      "compound: 0.0, neg: 0.0, neu: 1.0, pos: 0.0, \n",
      "['There', 'the', 'companions', 'of', 'his', 'fall', ',', 'o', \"'\", 'erwhelmed', 'With', 'floods', 'and', 'whirlwinds', 'of', 'tempestuous', 'fire', ',', 'He', 'soon', 'discerns', ';', 'and', ',', 'weltering', 'by', 'his', 'side', ',', 'One', 'next', 'himself', 'in', 'power', ',', 'and', 'next', 'in', 'crime', ',', 'Long', 'after', 'known', 'in', 'Palestine', ',', 'and', 'named', 'Beelzebub', '.']\n",
      "compound: -0.7096, neg: 0.138, neu: 0.862, pos: 0.0, \n"
     ]
    }
   ],
   "source": [
    "sid = SentimentIntensityAnalyzer()\n",
    "\n",
    "for sentence in sentences:\n",
    "    print(sentence)\n",
    "    ss = sid.polarity_scores(' '.join(sentence))\n",
    "    for k in sorted(ss):\n",
    "        print('{0}: {1}, '.format(k, ss[k]), end='')\n",
    "    print()"
   ]
  },
  {
   "cell_type": "code",
   "execution_count": 56,
   "id": "5e541889-d019-420c-8d29-8ad57237a542",
   "metadata": {},
   "outputs": [
    {
     "name": "stdout",
     "output_type": "stream",
     "text": [
      "Positive: [599, 820, 900, 1428, 1221]\n",
      "\n",
      "Negative: [150, 506, 1674, 473, 172]\n",
      "\n",
      "Neutral: [820, 1428, 599, 900, 1674]\n"
     ]
    }
   ],
   "source": [
    "from nltk.tokenize import sent_tokenize\n",
    "paradise_2 = nltk.corpus.gutenberg.raw('milton-paradise.txt')\n",
    "tokened_Sample = sent_tokenize(paradise_2) \n",
    "analyzer = SentimentIntensityAnalyzer()\n",
    "\n",
    "sentiments = []\n",
    "for index, sentence in enumerate(tokened_Sample):\n",
    "    scores = analyzer.polarity_scores(sentence)\n",
    "    scores['index'] = index\n",
    "    sentiments.append(scores)\n",
    "\n",
    "positive_sentences = sorted(sentiments, key=lambda x: x['pos'], reverse=True)[:5]\n",
    "negative_sentences = sorted(sentiments, key=lambda x: x['neg'], reverse=True)[:5]\n",
    "neutral_sentences = sorted(sentiments, key=lambda x: (x['neu'], -x['compound']))[:5]\n",
    "positive_sentence_indices = [sent['index'] for sent in positive_sentences]\n",
    "negative_sentence_indices = [sent['index'] for sent in negative_sentences]\n",
    "neutral_sentence_indices = [sent['index'] for sent in neutral_sentences]\n",
    "   \n",
    "print(\"Positive:\", positive_sentence_indices)\n",
    "print(\"\\nNegative:\", negative_sentence_indices)\n",
    "print(\"\\nNeutral:\", neutral_sentence_indices)"
   ]
  },
  {
   "cell_type": "code",
   "execution_count": 60,
   "id": "d730e040-bbe9-4912-877c-a6e0e1f245b4",
   "metadata": {},
   "outputs": [],
   "source": [
    "def get_sentence(index):\n",
    "    if 0 <= index < len(tokened_Sample):\n",
    "        sentence = tokened_Sample[index]\n",
    "        scores = analyzer.polarity_scores(sentence)\n",
    "        return scores, print(sentence)\n",
    "   "
   ]
  },
  {
   "cell_type": "code",
   "execution_count": 71,
   "id": "2ac4977a-8b08-4c8e-bfa7-0d98d5209971",
   "metadata": {},
   "outputs": [
    {
     "name": "stdout",
     "output_type": "stream",
     "text": [
      "O Heaven!\n"
     ]
    },
    {
     "data": {
      "text/plain": [
       "({'neg': 0.0, 'neu': 0.0, 'pos': 1.0, 'compound': 0.5562}, None)"
      ]
     },
     "execution_count": 71,
     "metadata": {},
     "output_type": "execute_result"
    }
   ],
   "source": [
    "get_sentence(820)\n"
   ]
  },
  {
   "cell_type": "markdown",
   "id": "66edbf82-76a1-4404-9955-2c8c79f4f408",
   "metadata": {},
   "source": [
    "The sentences the code returned were only really considered to be perfectly postive or negatice if they were very few words and almost all the words had a super postive or negative connotation prescribed with them. For example, a lot of the setences are 2 words one being O and the other being a word like heavens or terrible. There are a few sentences with 5-8 words and it is fairly negative/postive. If there was a way to set a minimum sentence length requirment I believe the results would be more accurate and have more substance to them. Or even looking a sentences that are rated a .8 instead of a 1.0."
   ]
  }
 ],
 "metadata": {
  "kernelspec": {
   "display_name": "Python 3 (ipykernel)",
   "language": "python",
   "name": "python3"
  },
  "language_info": {
   "codemirror_mode": {
    "name": "ipython",
    "version": 3
   },
   "file_extension": ".py",
   "mimetype": "text/x-python",
   "name": "python",
   "nbconvert_exporter": "python",
   "pygments_lexer": "ipython3",
   "version": "3.9.1"
  }
 },
 "nbformat": 4,
 "nbformat_minor": 5
}
