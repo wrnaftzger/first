{
 "cells": [
  {
   "cell_type": "code",
   "execution_count": 1,
   "id": "48a67bff-c81a-4473-bff5-cf1a70d09c53",
   "metadata": {},
   "outputs": [
    {
     "data": {
      "text/plain": [
       "['a', 'b']"
      ]
     },
     "execution_count": 1,
     "metadata": {},
     "output_type": "execute_result"
    }
   ],
   "source": [
    "list = [1, 2, 'a', 'b', 7.6]\n",
    "letter_list = []\n",
    "def number_finder(list):\n",
    "    for var in list:\n",
    "        if isinstance(var, str):\n",
    "            letter_list.append(var)\n",
    "    return letter_list\n",
    "\n",
    "number_finder(list)\n",
    "letter_list"
   ]
  },
  {
   "cell_type": "code",
   "execution_count": 4,
   "id": "95ef7795-9f5e-4dd3-8459-aa01fc71d6db",
   "metadata": {},
   "outputs": [
    {
     "name": "stdout",
     "output_type": "stream",
     "text": [
      "[]\n"
     ]
    }
   ],
   "source": [
    "\n",
    "def fizzbuzz(n):\n",
    "    result = []\n",
    "    for var in range(1, n+1):\n",
    "        if var % 3  == 0:\n",
    "            result.append(var, \"fizz\")\n",
    "\n",
    "        elif var % 5 == 0:\n",
    "            result.append(var, \"buzz\")\n",
    "\n",
    "        elif var % 3 == 0 and var % 5 ==0:\n",
    "            result.append(var, \"fizzbuzz\")\n",
    "\n",
    "        return result\n",
    "\n",
    "        \n",
    "print(fizzbuzz(10))\n",
    "\n",
    "    \n",
    "    "
   ]
  },
  {
   "cell_type": "code",
   "execution_count": null,
   "id": "d9bef643-6e9b-4035-80bd-505e6f11457b",
   "metadata": {},
   "outputs": [],
   "source": []
  },
  {
   "cell_type": "code",
   "execution_count": null,
   "id": "ef9af3ad-763d-4585-aa86-7196e3a4f033",
   "metadata": {},
   "outputs": [],
   "source": []
  }
 ],
 "metadata": {
  "kernelspec": {
   "display_name": "Python 3 (ipykernel)",
   "language": "python",
   "name": "python3"
  },
  "language_info": {
   "codemirror_mode": {
    "name": "ipython",
    "version": 3
   },
   "file_extension": ".py",
   "mimetype": "text/x-python",
   "name": "python",
   "nbconvert_exporter": "python",
   "pygments_lexer": "ipython3",
   "version": "3.9.1"
  }
 },
 "nbformat": 4,
 "nbformat_minor": 5
}
