{
 "cells": [
  {
   "cell_type": "markdown",
   "id": "bb71375b-3c3e-406d-8b8d-31f3549987e9",
   "metadata": {},
   "source": [
    "1. I am working alone. I plan to work on the cleanin for a week or so and then focus on the models closer to finals week.I need to mkae sure I spread this out and don not procrastinate until the end. I go to the library with friends a lot so I will probably work on it there.\n",
    "2. I am using an alzhiemers data set that I showed in class.\n",
    "3. Null Hypothesis - There will be no correlation difference between the groups of variables and the levels of dementated adults.\n",
    "   Alternative - There will be a clear association between certain variables and the level of a demented patient\n",
    "4. I am not sure the models I want to use yet but I will probably work with multicolinea"
   ]
  }
 ],
 "metadata": {
  "kernelspec": {
   "display_name": "Python 3 (ipykernel)",
   "language": "python",
   "name": "python3"
  },
  "language_info": {
   "codemirror_mode": {
    "name": "ipython",
    "version": 3
   },
   "file_extension": ".py",
   "mimetype": "text/x-python",
   "name": "python",
   "nbconvert_exporter": "python",
   "pygments_lexer": "ipython3",
   "version": "3.9.1"
  }
 },
 "nbformat": 4,
 "nbformat_minor": 5
}
